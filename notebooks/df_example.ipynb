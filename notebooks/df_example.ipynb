{
 "cells": [
  {
   "cell_type": "code",
   "execution_count": null,
   "metadata": {},
   "outputs": [],
   "source": [
    "import pandas as pd\n",
    "import numpy as np"
   ]
  },
  {
   "cell_type": "code",
   "execution_count": null,
   "metadata": {},
   "outputs": [],
   "source": [
    "\n",
    "# create a Pandas DataFrame with some data\n",
    "data = {'name': ['Alice', 'Bob', 'Charlie', 'David', 'Emily'],\n",
    "        'age': [25, 32, 18, 47, 22],\n",
    "        'city': ['London', 'New York', 'Paris', 'Tokyo', 'Sydney']}\n",
    "df = pd.DataFrame(data)\n",
    "\n",
    "# print the DataFrame\n",
    "print(df)\n",
    "\n",
    "# calculate the mean age using NumPy\n",
    "mean_age = np.mean(df['age'])\n",
    "print(\"Mean age:\", mean_age)\n",
    "\n",
    "# add a new column to the DataFrame using NumPy\n",
    "df['income'] = np.random.randint(1000, 5000, size=len(df))\n",
    "print(df)\n",
    "\n",
    "# filter the DataFrame using Pandas\n",
    "filtered_df = df[df['age'] > 20]\n",
    "print(filtered_df)\n"
   ]
  }
 ],
 "metadata": {
  "language_info": {
   "name": "python"
  },
  "orig_nbformat": 4
 },
 "nbformat": 4,
 "nbformat_minor": 2
}
